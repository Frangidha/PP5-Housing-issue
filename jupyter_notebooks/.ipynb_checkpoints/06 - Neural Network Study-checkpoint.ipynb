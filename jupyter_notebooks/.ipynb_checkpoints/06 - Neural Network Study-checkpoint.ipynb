{
 "cells": [
  {
   "cell_type": "markdown",
   "metadata": {
    "id": "0aStgWSO0E0E"
   },
   "source": [
    "# Neural Network study"
   ]
  },
  {
   "cell_type": "markdown",
   "metadata": {},
   "source": [
    "## Objectives\n",
    "\n",
    "* fit a neural network\n",
    "\n",
    "## Inputs\n",
    "\n",
    "- outputs/datasets/collection/algo.csv\n",
    "- Instructions on which variables to use for data cleaning and feature engineering. They are found in each respective notebook.\n",
    "\n",
    "## Outputs\n",
    "- Test set (features and target)- \n",
    "- Data cleaning and Feature Engineering pipeline\n",
    "- Modeling pipeline\n",
    "- Feature importance plot. \n"
   ]
  },
  {
   "cell_type": "markdown",
   "metadata": {
    "id": "9uWZXH9LwoQg"
   },
   "source": [
    "---"
   ]
  },
  {
   "cell_type": "markdown",
   "metadata": {},
   "source": [
    "## Install packages"
   ]
  },
  {
   "cell_type": "markdown",
   "metadata": {},
   "source": [
    "**To run this notebooks you need to install the following packages first**"
   ]
  },
  {
   "cell_type": "markdown",
   "metadata": {},
   "source": [
    "- pip install tensorflow==2.6.0 \n",
    "- pip install keras==2.6.0"
   ]
  },
  {
   "cell_type": "markdown",
   "metadata": {},
   "source": [
    "**Disclaimer: To run the other notebooks again you need reinstall and install the requirements file again**"
   ]
  },
  {
   "cell_type": "markdown",
   "metadata": {},
   "source": [
    "to do this run the following commands\n",
    "- pip freeze | xargs pip uninstall -y\n",
    "- pip install -r requirements.txt"
   ]
  },
  {
   "cell_type": "markdown",
   "metadata": {},
   "source": [
    "# Change working directory"
   ]
  },
  {
   "cell_type": "markdown",
   "metadata": {},
   "source": [
    "We need to change the working directory from its current folder to its parent folder\n",
    "* We access the current directory with os.getcwd()"
   ]
  },
  {
   "cell_type": "code",
   "execution_count": 1,
   "metadata": {},
   "outputs": [
    {
     "data": {
      "text/plain": [
       "'/workspaces/PP5-Housing-issue/jupyter_notebooks'"
      ]
     },
     "execution_count": 1,
     "metadata": {},
     "output_type": "execute_result"
    }
   ],
   "source": [
    "import os\n",
    "current_dir = os.getcwd()\n",
    "current_dir"
   ]
  },
  {
   "cell_type": "markdown",
   "metadata": {},
   "source": [
    "We want to make the parent of the current directory the new current directory.\n",
    "* os.path.dirname() gets the parent directory\n",
    "* os.chir() defines the new current directory"
   ]
  },
  {
   "cell_type": "code",
   "execution_count": 2,
   "metadata": {},
   "outputs": [
    {
     "name": "stdout",
     "output_type": "stream",
     "text": [
      "You set a new current directory\n"
     ]
    }
   ],
   "source": [
    "os.chdir(os.path.dirname(current_dir))\n",
    "print(\"You set a new current directory\")"
   ]
  },
  {
   "cell_type": "markdown",
   "metadata": {},
   "source": [
    "Confirm the new current directory"
   ]
  },
  {
   "cell_type": "code",
   "execution_count": 3,
   "metadata": {},
   "outputs": [
    {
     "data": {
      "text/plain": [
       "'/workspaces/PP5-Housing-issue'"
      ]
     },
     "execution_count": 3,
     "metadata": {},
     "output_type": "execute_result"
    }
   ],
   "source": [
    "current_dir = os.getcwd()\n",
    "current_dir"
   ]
  },
  {
   "cell_type": "markdown",
   "metadata": {
    "id": "OSpFreVRiuM3"
   },
   "source": [
    "---"
   ]
  },
  {
   "cell_type": "markdown",
   "metadata": {
    "id": "-mavJ8DibrcQ"
   },
   "source": [
    "# Step 1: Load Data"
   ]
  },
  {
   "cell_type": "code",
   "execution_count": 4,
   "metadata": {
    "id": "Xk7DU_ekbtX8"
   },
   "outputs": [
    {
     "name": "stdout",
     "output_type": "stream",
     "text": [
      "(1460, 24)\n"
     ]
    },
    {
     "data": {
      "text/html": [
       "<div>\n",
       "<style scoped>\n",
       "    .dataframe tbody tr th:only-of-type {\n",
       "        vertical-align: middle;\n",
       "    }\n",
       "\n",
       "    .dataframe tbody tr th {\n",
       "        vertical-align: top;\n",
       "    }\n",
       "\n",
       "    .dataframe thead th {\n",
       "        text-align: right;\n",
       "    }\n",
       "</style>\n",
       "<table border=\"1\" class=\"dataframe\">\n",
       "  <thead>\n",
       "    <tr style=\"text-align: right;\">\n",
       "      <th></th>\n",
       "      <th>1stFlrSF</th>\n",
       "      <th>2ndFlrSF</th>\n",
       "      <th>BedroomAbvGr</th>\n",
       "      <th>BsmtExposure</th>\n",
       "      <th>BsmtFinSF1</th>\n",
       "      <th>BsmtFinType1</th>\n",
       "      <th>BsmtUnfSF</th>\n",
       "      <th>EnclosedPorch</th>\n",
       "      <th>GarageArea</th>\n",
       "      <th>GarageFinish</th>\n",
       "      <th>...</th>\n",
       "      <th>LotFrontage</th>\n",
       "      <th>MasVnrArea</th>\n",
       "      <th>OpenPorchSF</th>\n",
       "      <th>OverallCond</th>\n",
       "      <th>OverallQual</th>\n",
       "      <th>TotalBsmtSF</th>\n",
       "      <th>WoodDeckSF</th>\n",
       "      <th>YearBuilt</th>\n",
       "      <th>YearRemodAdd</th>\n",
       "      <th>SalePrice</th>\n",
       "    </tr>\n",
       "  </thead>\n",
       "  <tbody>\n",
       "    <tr>\n",
       "      <th>0</th>\n",
       "      <td>856</td>\n",
       "      <td>854.0</td>\n",
       "      <td>3.0</td>\n",
       "      <td>No</td>\n",
       "      <td>706</td>\n",
       "      <td>GLQ</td>\n",
       "      <td>150</td>\n",
       "      <td>0.0</td>\n",
       "      <td>548</td>\n",
       "      <td>RFn</td>\n",
       "      <td>...</td>\n",
       "      <td>65.0</td>\n",
       "      <td>196.0</td>\n",
       "      <td>61</td>\n",
       "      <td>5</td>\n",
       "      <td>7</td>\n",
       "      <td>856</td>\n",
       "      <td>0.0</td>\n",
       "      <td>2003</td>\n",
       "      <td>2003</td>\n",
       "      <td>208500</td>\n",
       "    </tr>\n",
       "    <tr>\n",
       "      <th>1</th>\n",
       "      <td>1262</td>\n",
       "      <td>0.0</td>\n",
       "      <td>3.0</td>\n",
       "      <td>Gd</td>\n",
       "      <td>978</td>\n",
       "      <td>ALQ</td>\n",
       "      <td>284</td>\n",
       "      <td>NaN</td>\n",
       "      <td>460</td>\n",
       "      <td>RFn</td>\n",
       "      <td>...</td>\n",
       "      <td>80.0</td>\n",
       "      <td>0.0</td>\n",
       "      <td>0</td>\n",
       "      <td>8</td>\n",
       "      <td>6</td>\n",
       "      <td>1262</td>\n",
       "      <td>NaN</td>\n",
       "      <td>1976</td>\n",
       "      <td>1976</td>\n",
       "      <td>181500</td>\n",
       "    </tr>\n",
       "    <tr>\n",
       "      <th>2</th>\n",
       "      <td>920</td>\n",
       "      <td>866.0</td>\n",
       "      <td>3.0</td>\n",
       "      <td>Mn</td>\n",
       "      <td>486</td>\n",
       "      <td>GLQ</td>\n",
       "      <td>434</td>\n",
       "      <td>0.0</td>\n",
       "      <td>608</td>\n",
       "      <td>RFn</td>\n",
       "      <td>...</td>\n",
       "      <td>68.0</td>\n",
       "      <td>162.0</td>\n",
       "      <td>42</td>\n",
       "      <td>5</td>\n",
       "      <td>7</td>\n",
       "      <td>920</td>\n",
       "      <td>NaN</td>\n",
       "      <td>2001</td>\n",
       "      <td>2002</td>\n",
       "      <td>223500</td>\n",
       "    </tr>\n",
       "  </tbody>\n",
       "</table>\n",
       "<p>3 rows × 24 columns</p>\n",
       "</div>"
      ],
      "text/plain": [
       "   1stFlrSF  2ndFlrSF  BedroomAbvGr BsmtExposure  BsmtFinSF1 BsmtFinType1  \\\n",
       "0       856     854.0           3.0           No         706          GLQ   \n",
       "1      1262       0.0           3.0           Gd         978          ALQ   \n",
       "2       920     866.0           3.0           Mn         486          GLQ   \n",
       "\n",
       "   BsmtUnfSF  EnclosedPorch  GarageArea GarageFinish  ...  LotFrontage  \\\n",
       "0        150            0.0         548          RFn  ...         65.0   \n",
       "1        284            NaN         460          RFn  ...         80.0   \n",
       "2        434            0.0         608          RFn  ...         68.0   \n",
       "\n",
       "   MasVnrArea OpenPorchSF  OverallCond  OverallQual  TotalBsmtSF  WoodDeckSF  \\\n",
       "0       196.0          61            5            7          856         0.0   \n",
       "1         0.0           0            8            6         1262         NaN   \n",
       "2       162.0          42            5            7          920         NaN   \n",
       "\n",
       "   YearBuilt  YearRemodAdd  SalePrice  \n",
       "0       2003          2003     208500  \n",
       "1       1976          1976     181500  \n",
       "2       2001          2002     223500  \n",
       "\n",
       "[3 rows x 24 columns]"
      ]
     },
     "execution_count": 4,
     "metadata": {},
     "output_type": "execute_result"
    }
   ],
   "source": [
    "import numpy as np\n",
    "import pandas as pd\n",
    "df = (pd.read_csv(\"outputs/datasets/collection/house_prices_records.csv\")\n",
    "  )\n",
    "\n",
    "print(df.shape)\n",
    "df.head(3)"
   ]
  },
  {
   "cell_type": "markdown",
   "metadata": {
    "id": "Ofil7xTpm6l9"
   },
   "source": [
    "---"
   ]
  },
  {
   "cell_type": "markdown",
   "metadata": {
    "id": "krjAk78Tbyhv"
   },
   "source": [
    "# Step 2: ML Pipeline with all data"
   ]
  },
  {
   "cell_type": "markdown",
   "metadata": {
    "id": "FfCsXhBYVBJw"
   },
   "source": [
    "## ML pipeline for Data Cleaning"
   ]
  },
  {
   "cell_type": "markdown",
   "metadata": {
    "id": "KM_hrtfjLj85"
   },
   "source": [
    "Custom Class for Hyperparameter Optimisation from code institute"
   ]
  },
  {
   "cell_type": "code",
   "execution_count": 6,
   "metadata": {},
   "outputs": [],
   "source": [
    "from sklearn.model_selection import train_test_split\n",
    "from sklearn.preprocessing import StandardScaler\n",
    "from feature_engine.selection import DropFeatures\n",
    "from feature_engine.imputation import CategoricalImputer, MeanMedianImputer\n",
    "from feature_engine.encoding import OrdinalEncoder\n",
    "from sklearn.pipeline import Pipeline\n",
    "from sklearn.metrics import mean_squared_error\n",
    "from tensorflow import keras\n",
    "import tensorflow as tf\n",
    "from tensorflow.keras.layers import Dense"
   ]
  },
  {
   "cell_type": "code",
   "execution_count": 7,
   "metadata": {},
   "outputs": [
    {
     "name": "stdout",
     "output_type": "stream",
     "text": [
      "(1460, 22)\n"
     ]
    },
    {
     "data": {
      "text/html": [
       "<div>\n",
       "<style scoped>\n",
       "    .dataframe tbody tr th:only-of-type {\n",
       "        vertical-align: middle;\n",
       "    }\n",
       "\n",
       "    .dataframe tbody tr th {\n",
       "        vertical-align: top;\n",
       "    }\n",
       "\n",
       "    .dataframe thead th {\n",
       "        text-align: right;\n",
       "    }\n",
       "</style>\n",
       "<table border=\"1\" class=\"dataframe\">\n",
       "  <thead>\n",
       "    <tr style=\"text-align: right;\">\n",
       "      <th></th>\n",
       "      <th>1stFlrSF</th>\n",
       "      <th>2ndFlrSF</th>\n",
       "      <th>BedroomAbvGr</th>\n",
       "      <th>BsmtExposure</th>\n",
       "      <th>BsmtFinSF1</th>\n",
       "      <th>BsmtFinType1</th>\n",
       "      <th>BsmtUnfSF</th>\n",
       "      <th>GarageArea</th>\n",
       "      <th>GarageFinish</th>\n",
       "      <th>GarageYrBlt</th>\n",
       "      <th>...</th>\n",
       "      <th>LotArea</th>\n",
       "      <th>LotFrontage</th>\n",
       "      <th>MasVnrArea</th>\n",
       "      <th>OpenPorchSF</th>\n",
       "      <th>OverallCond</th>\n",
       "      <th>OverallQual</th>\n",
       "      <th>TotalBsmtSF</th>\n",
       "      <th>YearBuilt</th>\n",
       "      <th>YearRemodAdd</th>\n",
       "      <th>SalePrice</th>\n",
       "    </tr>\n",
       "  </thead>\n",
       "  <tbody>\n",
       "    <tr>\n",
       "      <th>0</th>\n",
       "      <td>-0.793434</td>\n",
       "      <td>1.213595</td>\n",
       "      <td>0.153895</td>\n",
       "      <td>-0.651112</td>\n",
       "      <td>0.575425</td>\n",
       "      <td>-1.156900</td>\n",
       "      <td>-0.944591</td>\n",
       "      <td>0.351000</td>\n",
       "      <td>-1.308321</td>\n",
       "      <td>1.017598</td>\n",
       "      <td>...</td>\n",
       "      <td>-0.207142</td>\n",
       "      <td>-0.220875</td>\n",
       "      <td>0.514104</td>\n",
       "      <td>0.216503</td>\n",
       "      <td>-0.517200</td>\n",
       "      <td>0.651479</td>\n",
       "      <td>-0.459303</td>\n",
       "      <td>1.050994</td>\n",
       "      <td>0.878668</td>\n",
       "      <td>0.347273</td>\n",
       "    </tr>\n",
       "    <tr>\n",
       "      <th>1</th>\n",
       "      <td>0.257140</td>\n",
       "      <td>-0.756746</td>\n",
       "      <td>0.153895</td>\n",
       "      <td>0.156555</td>\n",
       "      <td>1.171992</td>\n",
       "      <td>-0.535688</td>\n",
       "      <td>-0.641228</td>\n",
       "      <td>-0.060731</td>\n",
       "      <td>-1.308321</td>\n",
       "      <td>-0.107927</td>\n",
       "      <td>...</td>\n",
       "      <td>-0.091886</td>\n",
       "      <td>0.460320</td>\n",
       "      <td>-0.570750</td>\n",
       "      <td>-0.704483</td>\n",
       "      <td>2.179628</td>\n",
       "      <td>-0.071836</td>\n",
       "      <td>0.466465</td>\n",
       "      <td>0.156734</td>\n",
       "      <td>-0.429577</td>\n",
       "      <td>0.007288</td>\n",
       "    </tr>\n",
       "    <tr>\n",
       "      <th>2</th>\n",
       "      <td>-0.627826</td>\n",
       "      <td>1.241281</td>\n",
       "      <td>0.153895</td>\n",
       "      <td>0.964222</td>\n",
       "      <td>0.092907</td>\n",
       "      <td>-1.156900</td>\n",
       "      <td>-0.301643</td>\n",
       "      <td>0.631726</td>\n",
       "      <td>-1.308321</td>\n",
       "      <td>0.934226</td>\n",
       "      <td>...</td>\n",
       "      <td>0.073480</td>\n",
       "      <td>-0.084636</td>\n",
       "      <td>0.325915</td>\n",
       "      <td>-0.070361</td>\n",
       "      <td>-0.517200</td>\n",
       "      <td>0.651479</td>\n",
       "      <td>-0.313369</td>\n",
       "      <td>0.984752</td>\n",
       "      <td>0.830215</td>\n",
       "      <td>0.536154</td>\n",
       "    </tr>\n",
       "  </tbody>\n",
       "</table>\n",
       "<p>3 rows × 22 columns</p>\n",
       "</div>"
      ],
      "text/plain": [
       "   1stFlrSF  2ndFlrSF  BedroomAbvGr  BsmtExposure  BsmtFinSF1  BsmtFinType1  \\\n",
       "0 -0.793434  1.213595      0.153895     -0.651112    0.575425     -1.156900   \n",
       "1  0.257140 -0.756746      0.153895      0.156555    1.171992     -0.535688   \n",
       "2 -0.627826  1.241281      0.153895      0.964222    0.092907     -1.156900   \n",
       "\n",
       "   BsmtUnfSF  GarageArea  GarageFinish  GarageYrBlt  ...   LotArea  \\\n",
       "0  -0.944591    0.351000     -1.308321     1.017598  ... -0.207142   \n",
       "1  -0.641228   -0.060731     -1.308321    -0.107927  ... -0.091886   \n",
       "2  -0.301643    0.631726     -1.308321     0.934226  ...  0.073480   \n",
       "\n",
       "   LotFrontage  MasVnrArea  OpenPorchSF  OverallCond  OverallQual  \\\n",
       "0    -0.220875    0.514104     0.216503    -0.517200     0.651479   \n",
       "1     0.460320   -0.570750    -0.704483     2.179628    -0.071836   \n",
       "2    -0.084636    0.325915    -0.070361    -0.517200     0.651479   \n",
       "\n",
       "   TotalBsmtSF  YearBuilt  YearRemodAdd  SalePrice  \n",
       "0    -0.459303   1.050994      0.878668   0.347273  \n",
       "1     0.466465   0.156734     -0.429577   0.007288  \n",
       "2    -0.313369   0.984752      0.830215   0.536154  \n",
       "\n",
       "[3 rows x 22 columns]"
      ]
     },
     "execution_count": 7,
     "metadata": {},
     "output_type": "execute_result"
    }
   ],
   "source": [
    "def preprocessing_pipeline():\n",
    "    return Pipeline([\n",
    "        (\"DropFeatures\", DropFeatures(features_to_drop=['EnclosedPorch', 'WoodDeckSF'])),\n",
    "        (\"MeanMedianImputer\", MeanMedianImputer(imputation_method='median',\n",
    "                                                variables=['LotFrontage', 'BedroomAbvGr', '2ndFlrSF', 'GarageYrBlt', 'MasVnrArea'])),\n",
    "        (\"CategoricalImputer\", CategoricalImputer(imputation_method='missing', fill_value='Unf',\n",
    "                                                  variables=['GarageFinish', 'BsmtFinType1'])),\n",
    "        (\"Ordinalencoder\", OrdinalEncoder(encoding_method='arbitrary',\n",
    "                                           variables=['BsmtExposure', 'BsmtFinType1', 'GarageFinish', 'KitchenQual'])),\n",
    "        (\"StandardScaler\", StandardScaler())\n",
    "    ])\n",
    "\n",
    "preprocessing = preprocessing_pipeline()\n",
    "df_processed = preprocessing.fit_transform(df)\n",
    "\n",
    "# Create a list of column names excluding the dropped features\n",
    "columns_after_preprocessing = [col for col in df.columns if col not in ['EnclosedPorch', 'WoodDeckSF']]\n",
    "\n",
    "# Convert the NumPy array back to a DataFrame with the correct column names\n",
    "df_processed = pd.DataFrame(df_processed, columns=columns_after_preprocessing)\n",
    "\n",
    "# Now you can use df_processed as a DataFrame\n",
    "print(df_processed.shape)\n",
    "df_processed.head(3)"
   ]
  },
  {
   "cell_type": "code",
   "execution_count": 8,
   "metadata": {},
   "outputs": [
    {
     "name": "stdout",
     "output_type": "stream",
     "text": [
      "(1168, 21) (1168,) (292, 21) (292,)\n"
     ]
    }
   ],
   "source": [
    "from sklearn.model_selection import train_test_split\n",
    "X_train, X_test, y_train, y_test = train_test_split(\n",
    "    df_processed.drop(['SalePrice'], axis=1),\n",
    "    df_processed['SalePrice'],\n",
    "    test_size=0.2,\n",
    "    random_state=0,\n",
    ")\n",
    "\n",
    "print(X_train.shape, y_train.shape, X_test.shape, y_test.shape)"
   ]
  },
  {
   "cell_type": "code",
   "execution_count": 11,
   "metadata": {},
   "outputs": [],
   "source": [
    "model = keras.Sequential([\n",
    "    Dense(128, activation='relu', input_shape=(X_train.shape[1],)),\n",
    "    Dense(64, activation='relu'),\n",
    "    Dense(32, activation='relu'),\n",
    "    Dense(1)  # Output layer for regression\n",
    "])\n",
    "\n",
    "model.compile(optimizer='adam', loss='mean_squared_error')"
   ]
  },
  {
   "cell_type": "code",
   "execution_count": 12,
   "metadata": {},
   "outputs": [
    {
     "name": "stdout",
     "output_type": "stream",
     "text": [
      "Epoch 1/45\n",
      "37/37 [==============================] - 1s 8ms/step - loss: 0.3273 - val_loss: 0.4686\n",
      "Epoch 2/45\n",
      "37/37 [==============================] - 0s 3ms/step - loss: 0.1383 - val_loss: 0.4102\n",
      "Epoch 3/45\n",
      "37/37 [==============================] - 0s 3ms/step - loss: 0.1208 - val_loss: 0.3910\n",
      "Epoch 4/45\n",
      "37/37 [==============================] - 0s 3ms/step - loss: 0.1079 - val_loss: 0.3631\n",
      "Epoch 5/45\n",
      "37/37 [==============================] - 0s 2ms/step - loss: 0.0949 - val_loss: 0.3810\n",
      "Epoch 6/45\n",
      "37/37 [==============================] - 0s 3ms/step - loss: 0.0924 - val_loss: 0.3197\n",
      "Epoch 7/45\n",
      "37/37 [==============================] - 0s 3ms/step - loss: 0.0870 - val_loss: 0.2958\n",
      "Epoch 8/45\n",
      "37/37 [==============================] - 0s 3ms/step - loss: 0.0731 - val_loss: 0.3374\n",
      "Epoch 9/45\n",
      "37/37 [==============================] - 0s 4ms/step - loss: 0.0696 - val_loss: 0.2826\n",
      "Epoch 10/45\n",
      "37/37 [==============================] - 0s 3ms/step - loss: 0.0688 - val_loss: 0.2694\n",
      "Epoch 11/45\n",
      "37/37 [==============================] - 0s 2ms/step - loss: 0.0567 - val_loss: 0.2625\n",
      "Epoch 12/45\n",
      "37/37 [==============================] - 0s 3ms/step - loss: 0.0502 - val_loss: 0.2877\n",
      "Epoch 13/45\n",
      "37/37 [==============================] - 0s 3ms/step - loss: 0.0533 - val_loss: 0.2384\n",
      "Epoch 14/45\n",
      "37/37 [==============================] - 0s 3ms/step - loss: 0.0517 - val_loss: 0.2275\n",
      "Epoch 15/45\n",
      "37/37 [==============================] - 0s 3ms/step - loss: 0.0402 - val_loss: 0.2296\n",
      "Epoch 16/45\n",
      "37/37 [==============================] - 0s 2ms/step - loss: 0.0361 - val_loss: 0.2470\n",
      "Epoch 17/45\n",
      "37/37 [==============================] - 0s 3ms/step - loss: 0.0359 - val_loss: 0.2337\n",
      "Epoch 18/45\n",
      "37/37 [==============================] - 0s 3ms/step - loss: 0.0291 - val_loss: 0.2209\n",
      "Epoch 19/45\n",
      "37/37 [==============================] - 0s 3ms/step - loss: 0.0270 - val_loss: 0.2254\n",
      "Epoch 20/45\n",
      "37/37 [==============================] - 0s 3ms/step - loss: 0.0252 - val_loss: 0.2149\n",
      "Epoch 21/45\n",
      "37/37 [==============================] - 0s 2ms/step - loss: 0.0220 - val_loss: 0.2155\n",
      "Epoch 22/45\n",
      "37/37 [==============================] - 0s 2ms/step - loss: 0.0210 - val_loss: 0.2329\n",
      "Epoch 23/45\n",
      "37/37 [==============================] - 0s 3ms/step - loss: 0.0199 - val_loss: 0.2251\n",
      "Epoch 24/45\n",
      "37/37 [==============================] - 0s 3ms/step - loss: 0.0270 - val_loss: 0.2109\n",
      "Epoch 25/45\n",
      "37/37 [==============================] - 0s 3ms/step - loss: 0.0221 - val_loss: 0.2147\n",
      "Epoch 26/45\n",
      "37/37 [==============================] - 0s 2ms/step - loss: 0.0181 - val_loss: 0.2153\n",
      "Epoch 27/45\n",
      "37/37 [==============================] - 0s 3ms/step - loss: 0.0169 - val_loss: 0.2296\n",
      "Epoch 28/45\n",
      "37/37 [==============================] - 0s 3ms/step - loss: 0.0173 - val_loss: 0.2330\n",
      "Epoch 29/45\n",
      "37/37 [==============================] - 0s 3ms/step - loss: 0.0149 - val_loss: 0.2359\n",
      "Epoch 30/45\n",
      "37/37 [==============================] - 0s 2ms/step - loss: 0.0138 - val_loss: 0.2366\n",
      "Epoch 31/45\n",
      "37/37 [==============================] - 0s 3ms/step - loss: 0.0125 - val_loss: 0.2359\n",
      "Epoch 32/45\n",
      "37/37 [==============================] - 0s 3ms/step - loss: 0.0141 - val_loss: 0.2589\n",
      "Epoch 33/45\n",
      "37/37 [==============================] - 0s 3ms/step - loss: 0.0120 - val_loss: 0.2303\n",
      "Epoch 34/45\n",
      "37/37 [==============================] - 0s 3ms/step - loss: 0.0103 - val_loss: 0.2311\n",
      "Epoch 35/45\n",
      "37/37 [==============================] - 0s 3ms/step - loss: 0.0096 - val_loss: 0.2380\n",
      "Epoch 36/45\n",
      "37/37 [==============================] - 0s 3ms/step - loss: 0.0090 - val_loss: 0.2299\n",
      "Epoch 37/45\n",
      "37/37 [==============================] - 0s 3ms/step - loss: 0.0097 - val_loss: 0.2592\n",
      "Epoch 38/45\n",
      "37/37 [==============================] - 0s 3ms/step - loss: 0.0094 - val_loss: 0.2397\n",
      "Epoch 39/45\n",
      "37/37 [==============================] - 0s 3ms/step - loss: 0.0088 - val_loss: 0.2570\n",
      "Epoch 40/45\n",
      "37/37 [==============================] - 0s 3ms/step - loss: 0.0106 - val_loss: 0.2521\n",
      "Epoch 41/45\n",
      "37/37 [==============================] - 0s 3ms/step - loss: 0.0091 - val_loss: 0.2382\n",
      "Epoch 42/45\n",
      "37/37 [==============================] - 0s 3ms/step - loss: 0.0102 - val_loss: 0.2409\n",
      "Epoch 43/45\n",
      "37/37 [==============================] - 0s 3ms/step - loss: 0.0091 - val_loss: 0.2446\n",
      "Epoch 44/45\n",
      "37/37 [==============================] - 0s 3ms/step - loss: 0.0086 - val_loss: 0.2305\n",
      "Epoch 45/45\n",
      "37/37 [==============================] - 0s 3ms/step - loss: 0.0062 - val_loss: 0.2227\n"
     ]
    }
   ],
   "source": [
    "history = model.fit(X_train, y_train, epochs=45, batch_size=32, validation_data=(X_test, y_test))"
   ]
  },
  {
   "cell_type": "code",
   "execution_count": 17,
   "metadata": {},
   "outputs": [
    {
     "data": {
      "image/png": "[encoded data removed]",
      "text/plain": [
       "<Figure size 1000x600 with 1 Axes>"
      ]
     },
     "metadata": {},
     "output_type": "display_data"
    }
   ],
   "source": [
    "import matplotlib.pyplot as plt\n",
    "\n",
    "# Access loss values from the history object\n",
    "training_loss = history.history['loss']\n",
    "validation_loss = history.history['val_loss']\n",
    "\n",
    "# Create a plot to visualize the loss\n",
    "plt.figure(figsize=(10, 6))\n",
    "plt.plot(training_loss, label='Training Loss', color='blue')\n",
    "plt.plot(validation_loss, label='Validation Loss', color='red')\n",
    "plt.xlabel('Epochs')\n",
    "plt.ylabel('Loss')\n",
    "plt.title('Training and Validation Loss')\n",
    "plt.legend()\n",
    "plt.show()"
   ]
  },
  {
   "cell_type": "code",
   "execution_count": 18,
   "metadata": {},
   "outputs": [
    {
     "name": "stdout",
     "output_type": "stream",
     "text": [
      "Mean Squared Error: 0.22274001956108735\n"
     ]
    }
   ],
   "source": [
    "y_pred = model.predict(X_test)\n",
    "mse = mean_squared_error(y_test, y_pred)\n",
    "print(f\"Mean Squared Error: {mse}\")"
   ]
  },
  {
   "cell_type": "code",
   "execution_count": 19,
   "metadata": {},
   "outputs": [],
   "source": [
    "first_layer_weights = model.layers[0].get_weights()[0]\n",
    "\n",
    "# Calculate feature importances by taking the absolute sum of weights for each feature\n",
    "feature_importances = abs(first_layer_weights).sum(axis=1)"
   ]
  },
  {
   "cell_type": "code",
   "execution_count": 16,
   "metadata": {},
   "outputs": [
    {
     "data": {
      "image/png": "[encoded data removed]",
      "text/plain": [
       "<Figure size 1200x600 with 1 Axes>"
      ]
     },
     "metadata": {},
     "output_type": "display_data"
    }
   ],
   "source": [
    "feature_names = df_processed.columns.tolist()\n",
    "\n",
    "# Drop a specific column name\n",
    "column_to_drop = \"SalePrice\"\n",
    "if column_to_drop in feature_names:\n",
    "    feature_names.remove(column_to_drop)\n",
    "plt.figure(figsize=(12, 6))\n",
    "plt.bar(range(X_train.shape[1]), feature_importances)\n",
    "plt.xticks(range(X_train.shape[1]), feature_names, rotation=90)  # Set feature names on the x-axis\n",
    "plt.xlabel('Feature')\n",
    "plt.ylabel('Feature Importance')\n",
    "plt.title('Feature Importances')\n",
    "plt.tight_layout()\n",
    "plt.show()"
   ]
  },
  {
   "cell_type": "markdown",
   "metadata": {},
   "source": [
    "## Conclusion"
   ]
  },
  {
   "cell_type": "markdown",
   "metadata": {
    "id": "R4PpI2sKC5IL"
   },
   "source": [
    "It appears that all the features in the dataset may hold significant importance. This could be due to the limited amount of data available for the neural network to effectively discern the most crucial features and produce consistent results. Consequently, traditional machine learning models might outperform the neural network in this scenario. Research on optimizing neural network architecture is essential."
   ]
  },
  {
   "cell_type": "markdown",
   "metadata": {},
   "source": [
    "---"
   ]
  }
 ],
 "metadata": {
  "accelerator": "GPU",
  "colab": {
   "name": "Modeling and Evaluation - Predict Customer Churn.ipynb",
   "provenance": []
  },
  "interpreter": {
   "hash": "8b8334dab9339717f727a1deaf837b322d7a41c20d15cc86be99a8e69ceec8ce"
  },
  "kernelspec": {
   "display_name": "Python 3 (ipykernel)",
   "language": "python",
   "name": "python3"
  },
  "language_info": {
   "codemirror_mode": {
    "name": "ipython",
    "version": 3
   },
   "file_extension": ".py",
   "mimetype": "text/x-python",
   "name": "python",
   "nbconvert_exporter": "python",
   "pygments_lexer": "ipython3",
   "version": "3.8.12"
  }
 },
 "nbformat": 4,
 "nbformat_minor": 4
}
